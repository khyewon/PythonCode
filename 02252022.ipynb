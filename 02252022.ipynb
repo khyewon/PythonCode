{
 "cells": [
  {
   "cell_type": "markdown",
   "metadata": {},
   "source": [
    "### rectangle(perimeter, area)\n",
    "\n",
    "**Input** *int* perimeter and *int* area\n",
    "\n",
    "**Output** *int* the longest side length for the rectangle ***or*** *bool* False if no rectangle exists for the given requirements\n",
    "\n",
    "\n",
    "\n",
    "Returns the longest side of the rectangle with given perimemter and area if and only if both sides are integer lengths. In a rectangle, *perimemter = 2w + 2h* and *area = w x h*"
   ]
  },
  {
   "cell_type": "code",
   "execution_count": 73,
   "metadata": {},
   "outputs": [],
   "source": [
    "def rectangle(perimeter, area):\n",
    "    # @khyewon\n",
    "    for width in range(1, area):\n",
    "        height = round(area / width)\n",
    "\n",
    "        if (width * height == area) and (width + height == perimeter / 2):\n",
    "            if width > height:\n",
    "                long_length = width\n",
    "                break\n",
    "            else:\n",
    "                long_length = height\n",
    "                break\n",
    "\n",
    "        else:\n",
    "            long_length = False\n",
    "        \n",
    "    return long_length"
   ]
  },
  {
   "cell_type": "code",
   "execution_count": 77,
   "metadata": {},
   "outputs": [
    {
     "name": "stdout",
     "output_type": "stream",
     "text": [
      "5\n"
     ]
    }
   ],
   "source": [
    "longest_width = rectangle(int(input()), int(input()))\n",
    "print(longest_width)"
   ]
  },
  {
   "cell_type": "markdown",
   "metadata": {},
   "source": [
    "### invert(d)\n",
    "\n",
    "**Input** *dict* d\n",
    "\n",
    "**Output** *dict* inverted key-value dictionary\n",
    "\n",
    "Return a inverted key-value set of dictionary but remove duplicated key."
   ]
  },
  {
   "cell_type": "code",
   "execution_count": 56,
   "metadata": {},
   "outputs": [],
   "source": [
    "def invert(d):\n",
    "    # @khyewon\n",
    "    key_list = []\n",
    "    value_list = []\n",
    "    for keys in d.keys():\n",
    "        key_list.append(keys)\n",
    "    for values in d.values():\n",
    "        value_list.append(values)\n",
    "    \n",
    "\n",
    "    reversed_dic = {}\n",
    "\n",
    "    for i in range(len(d)):\n",
    "        if value_list[i] not in reversed_dic.keys():\n",
    "            reversed_dic[value_list[i]] = key_list[i]\n",
    "        else:\n",
    "            reversed_dic.pop(value_list[i])\n",
    "    \n",
    "    return reversed_dic"
   ]
  },
  {
   "cell_type": "code",
   "execution_count": null,
   "metadata": {},
   "outputs": [
    {
     "name": "stdout",
     "output_type": "stream",
     "text": [
      "{1: 'one', 2: 'two', 3: 'three', 4: 'four'}\n",
      "{3: 'three'}\n",
      "{'Sara': '123-456-78', 'sara': '258715'}\n"
     ]
    }
   ],
   "source": [
    "a_ex = {'one':1, 'two':2, 'uno':1, 'dos':2, 'three':3}\n",
    "b_ex = {'814-888-8888':'Jasmin', '825-000-0000':'Aladin', '917-555-5555':'Elsa', '999-999-9999':'Anna'}\n",
    "\n",
    "print(invert(a_ex))\n",
    "print(invert(b_ex))"
   ]
  },
  {
   "cell_type": "markdown",
   "metadata": {},
   "source": [
    "### getPosition(num, digit)"
   ]
  },
  {
   "cell_type": "code",
   "execution_count": null,
   "metadata": {},
   "outputs": [],
   "source": [
    "def getPosition(num, digit):\n",
    "    # @khyewon\n",
    "    num_list = []\n",
    "\n",
    "    while num > 0:\n",
    "        find_position = num % 10\n",
    "        num_list.append(find_position)\n",
    "        num //= 10\n",
    "    \n",
    "    if num_list.count(digit) == 0:\n",
    "        position = False\n",
    "        return position\n",
    "    \n",
    "    for number in num_list:\n",
    "        if number == digit:\n",
    "            position = num_list.index(number) + 1\n",
    "            return position"
   ]
  },
  {
   "cell_type": "code",
   "execution_count": null,
   "metadata": {},
   "outputs": [
    {
     "name": "stdout",
     "output_type": "stream",
     "text": [
      "2\n"
     ]
    }
   ],
   "source": [
    "position = getPosition(int(input()), int(input()))\n",
    "print(position)"
   ]
  },
  {
   "cell_type": "markdown",
   "metadata": {},
   "source": [
    "### hailstone(num)\n",
    "\n",
    "**Input** *int* num\n",
    "\n",
    "**Output** *list* Hailstone sequence starting at num and ending at 1\n",
    "\n",
    "Returns the hailstone sequence starting at the given number until termination when num is 1. The hailstone sequence is generated as follows:\n",
    "\n",
    "- If num is even, then the next number in the sequence is num/2\n",
    "- If num is odd, then the next number in the sequence is 3 x num + 1\n",
    "- Continue this process until ??? = 1"
   ]
  },
  {
   "cell_type": "code",
   "execution_count": null,
   "metadata": {},
   "outputs": [],
   "source": [
    "def hailstone(num):\n",
    "    # @khyewon\n",
    "    num_list = [num]\n",
    "\n",
    "    for number in num_list:\n",
    "        if num_list[-1] == 1:     #define the last case to end the for loop\n",
    "            return num_list\n",
    "\n",
    "        elif number % 2 == 0:       #case that the number is even\n",
    "            next_num = int(number / 2)\n",
    "            num_list.append(next_num)\n",
    "        elif number % 2 == 1:       # case that the number is odd\n",
    "            next_num = int(3 * number + 1)\n",
    "            num_list.append(next_num)\n"
   ]
  },
  {
   "cell_type": "code",
   "execution_count": null,
   "metadata": {},
   "outputs": [
    {
     "name": "stdout",
     "output_type": "stream",
     "text": [
      "[19, 58, 29, 88, 44, 22, 11, 34, 17, 52, 26, 13, 40, 20, 10, 5, 16, 8, 4, 2, 1]\n"
     ]
    }
   ],
   "source": [
    "hailstone_number = hailstone(int(input()))\n",
    "print(hailstone_number)"
   ]
  },
  {
   "cell_type": "markdown",
   "metadata": {},
   "source": [
    "### largeFactor(num)"
   ]
  },
  {
   "cell_type": "code",
   "execution_count": null,
   "metadata": {},
   "outputs": [],
   "source": [
    "def largeFactor(num):\n",
    "    # @khyewon\n",
    "    factor_list = [1]\n",
    "    for factor in range(2, num):\n",
    "        if num % factor == 0:\n",
    "            factor_list.append(factor)\n",
    "    \n",
    "    return max(factor_list)"
   ]
  },
  {
   "cell_type": "code",
   "execution_count": null,
   "metadata": {},
   "outputs": [
    {
     "name": "stdout",
     "output_type": "stream",
     "text": [
      "72\n"
     ]
    }
   ],
   "source": [
    "largest_factor = largeFactor(int(input()))\n",
    "print(largest_factor)"
   ]
  }
 ],
 "metadata": {
  "kernelspec": {
   "display_name": "base",
   "language": "python",
   "name": "python3"
  },
  "language_info": {
   "codemirror_mode": {
    "name": "ipython",
    "version": 3
   },
   "file_extension": ".py",
   "mimetype": "text/x-python",
   "name": "python",
   "nbconvert_exporter": "python",
   "pygments_lexer": "ipython3",
   "version": "3.9.13"
  },
  "orig_nbformat": 4
 },
 "nbformat": 4,
 "nbformat_minor": 2
}
